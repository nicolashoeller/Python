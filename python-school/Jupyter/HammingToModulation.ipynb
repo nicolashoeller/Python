{
  "cells": [
    {
      "cell_type": "markdown",
      "metadata": {},
      "source": [
        "# 1. Hamming Code\n",
        "In dieser Aufgabe werden wir mithilfe von mehreren Teilfunktionen den Ablauf des Hamming-Codes zur Fehlerkorrektur nachstellen.\n",
        "Zu beginn starten wir mit einem Array von Integern die eine Binärzahl representieren:\n"
      ]
    },
    {
      "cell_type": "markdown",
      "metadata": {},
      "source": [
        "Um an einem späteren Zeitpunkt die benötigten Parity-Bits hinzufügen zu können muss an jeder $2^n$ten Stelle Platz gemacht werden. Dieser Platzhalter kann beispielsweise eine **2** sein (diese Zahl müss später bein einfügen der Parity-Bits unterschieden werden können, also nicht 1 oder 0).\n",
        "\n",
        "> **Aufgabe**: Die erste Funktion überprüft ob eine Zahl **n** eine Zweierpotenz (2 hoch einer ganzen Zahl) ist. Diese Funktion gibt `True` zurück falls dies zutrifft und `False` wenn nicht."
      ]
    },
    {
      "cell_type": "code",
      "execution_count": 24,
      "metadata": {
        "trusted": true
      },
      "outputs": [
        {
          "name": "stdout",
          "output_type": "stream",
          "text": [
            "True\n",
            "True\n"
          ]
        }
      ],
      "source": [
        "def isPowerOfTwo(n):\n",
        "    if n == 0:\n",
        "        return False\n",
        "    while n != 1:\n",
        "        if n % 2 != 0:\n",
        "            return False\n",
        "        n = n // 2\n",
        "    return True\n",
        "    \n",
        "\n",
        "#Tests\n",
        "print(isPowerOfTwo(6) == False)\n",
        "print(isPowerOfTwo(8) == True)"
      ]
    },
    {
      "cell_type": "markdown",
      "metadata": {},
      "source": [
        "Um diese Platzhalter im Array an die richtige Stelle zu setzen verwenden wir die vorher erstellte Funktion: **isPowerOfTwo(n)**.\n",
        "\n",
        "> **Aufgabe**: Das Ziel dieser Funktion ist es an jeder $2^n$ten Stelle im Array eine *2* einzufügen. Da von rechts nach links gerechnet wird, ist es von Vorteil das Array umzukehren. Mit **_list.reverse()_** kann eine Liste umgedreht werden und mit **_list.append(item)_** kann ein Element einer Liste angehängt werden. Zum Beispiel wird aus: $$[1, 0, 1, 1, 0, 1, 0, 0]  \\rightarrow  [0, 0, 1, 0, 1, 1, 0, 1] \\rightarrow [2, 2, 0, 2, 0, 1, 0, 2, 1, 1, 0, 1]$$"
      ]
    },
    {
      "cell_type": "code",
      "execution_count": 9,
      "metadata": {
        "trusted": true
      },
      "outputs": [
        {
          "name": "stdout",
          "output_type": "stream",
          "text": [
            "True\n",
            "True\n"
          ]
        }
      ],
      "source": [
        "def fillBits(data):\n",
        "    data.reverse()\n",
        "    i = 1\n",
        "    while i <= len(data):\n",
        "        data.insert(i - 1, 2)\n",
        "        i *= 2\n",
        "    return data\n",
        "\n",
        "#Tests\n",
        "print(fillBits([1,0,1,1,0,1,0,0]) == [2, 2, 0, 2, 0, 1, 0, 2, 1, 1, 0, 1])\n",
        "print(fillBits([0,0,0,1]) == [2, 2, 1, 2, 0, 0, 0])"
      ]
    },
    {
      "cell_type": "markdown",
      "metadata": {},
      "source": [
        "## Paritätsbits\n",
        "Die folgenden Funktionen berechnen die benötigten Paritätsbits. Zu Beginn werden alle Stellen der zuvor berechneten Liste wo sich eine **1** befindet erfasst. Jede Stelle wird daraufhin in ihre binäre Schreibweise umgeschrieben und mit den anderen Indexen addiert (**ohne Übertrag**). Daraus resultieren die Paritätsbits der Liste."
      ]
    },
    {
      "cell_type": "markdown",
      "metadata": {},
      "source": [
        "> **Aufgabe**: Diese Funktion erhält eine Liste und gibt die Indexe aller **1**sen als Liste zurück (in aufsteigender Reihenfolge).\n",
        "$$[2, 2, 0, 2, 0, 1, 0, 2, 1, 1, 0, 1] \\rightarrow [6, 9, 10, 12]$$"
      ]
    },
    {
      "cell_type": "code",
      "execution_count": 26,
      "metadata": {
        "trusted": true
      },
      "outputs": [
        {
          "name": "stdout",
          "output_type": "stream",
          "text": [
            "True\n",
            "True\n"
          ]
        }
      ],
      "source": [
        "def getIndicesOfOnes(lst):\n",
        "    indices = []\n",
        "    n = 1\n",
        "    for i in range(len(lst)):\n",
        "        if lst[i] == 1:\n",
        "            indices.append(n)\n",
        "        n = n + 1\n",
        "    return indices\n",
        "\n",
        "#Tests\n",
        "print(getIndicesOfOnes([2, 2, 0, 2, 0, 1, 0, 2, 1, 1, 0, 1]) == [6, 9, 10, 12])\n",
        "print(getIndicesOfOnes([2, 2, 1, 2, 1, 0, 0]) == [3, 5])"
      ]
    },
    {
      "cell_type": "markdown",
      "metadata": {},
      "source": [
        "Im nächsten Schritt wird jede Stelle wo eine **1** vorgekommen ist binär miteinander addiert (und zwar ohne Übertrag).\n",
        "> **Aufgabe**: Diese Funktion bekommt eine Liste mit Indexen, welche binär addiert werden. Zum Beispiel: $$[6, 9, 10, 12] \\rightarrow 0110 + 1001 + 1010 + 1100  \\rightarrow  0b1001$$ Diese Funktion gibt den Wert als `Binärzahl` zurück. Mit der Funktion **bin(Zahl)** kann eine Zahl in ihre Binärdarstellung umgewandelt werden. \n",
        "\n",
        "_Tipp: mit XOR (^) kann man Zahlen ohne Übertrag addieren._"
      ]
    },
    {
      "cell_type": "code",
      "execution_count": 31,
      "metadata": {
        "trusted": true
      },
      "outputs": [
        {
          "name": "stdout",
          "output_type": "stream",
          "text": [
            "True\n",
            "True\n"
          ]
        }
      ],
      "source": [
        "def addWithoutCarry(arr):\n",
        "    summe = 0\n",
        "    for i in arr:\n",
        "        summe ^= i\n",
        "\n",
        "    return bin(summe)\n",
        "\n",
        "#Tests\n",
        "print(addWithoutCarry([6, 9, 10, 12]) == '0b1001')\n",
        "print(addWithoutCarry([3, 5]) == '0b110')"
      ]
    },
    {
      "cell_type": "markdown",
      "metadata": {},
      "source": [
        "Die Funktion **addWithoutCarry(arr)** gibt eine Binärzahl wie zum Beispiel `0b1001` zurück. Die Aufgabe der nächsten Funktion ist es das `0b` am Beginn der loszuwerden und die übrigen \"bits\" in Form einer Liste zu erhalten.\n",
        "\n",
        "> **Aufgabe**: Hilfreich ist es den Binärwert **b** mit der Funktion **str(b)** zu einem `String` umzuwanden. Zum Beispiel wird aus:\n",
        "$$ 0b1001 \\rightarrow [1, 0, 0, 1]$$"
      ]
    },
    {
      "cell_type": "code",
      "execution_count": 63,
      "metadata": {
        "trusted": true
      },
      "outputs": [
        {
          "name": "stdout",
          "output_type": "stream",
          "text": [
            "True\n",
            "True\n"
          ]
        }
      ],
      "source": [
        "def binToIntList(b):\n",
        "    newArr = []\n",
        "    str(b)\n",
        "    for i in range(2, len(b)):\n",
        "        newArr.append(int(b[i]))\n",
        "\n",
        "    return newArr\n",
        "\n",
        "#Tests\n",
        "print(binToIntList('0b1001') == [1, 0, 0, 1])\n",
        "print(binToIntList('0b110') == [1, 1, 0])"
      ]
    },
    {
      "cell_type": "markdown",
      "metadata": {},
      "source": [
        "## Zusammensetzen\n",
        "Diese letzte Funktion um den Hamming Code zu bestimmen fügt die berechneten Paritätsbits an den Stellen (die mit einer **2** gekennzeichnet sind) ein.\n",
        "\n",
        "> **Aufgabe**: Beim durchiterieren der Liste **lst** wird überprüft ob das aktuelle Element eine **2** (also Platzhalter für ein Paritätsbit) ist. Falls das zutrifft, wird dieses mit dem ersten Paritätsbit aus der Liste **bts** ausgetauscht. Zum Beispiel:\n",
        "$$[2, 2, 0, 2, 0, 1, 0, 2, 1, 1, 0, 1] [1, 0, 0, 1] \\rightarrow [1, 0, 0, 0, 0, 1, 0, 1, 1, 1, 0, 1]$$\n",
        "ein weiters Beispiel:\n",
        "$$[2, 2, 1, 2, 1, 0, 0] [0, 1, 1] \\rightarrow [0, 1, 1, 1, 1, 0, 0]$$\n",
        "**Falls nicht genügend Paritätsbits verfügbar sind soll eine 0 eingefügt werden.** Das kann auftreten wenn zum Beispiel 0001 als Paritätsbis herauskommen und diese als 0b1 angegeben werden."
      ]
    },
    {
      "cell_type": "code",
      "execution_count": 91,
      "metadata": {
        "trusted": true
      },
      "outputs": [
        {
          "name": "stdout",
          "output_type": "stream",
          "text": [
            "True\n",
            "True\n",
            "True\n"
          ]
        }
      ],
      "source": [
        "def fillParityBits(lst, bts):\n",
        "    newLst = []\n",
        "    for i in lst:\n",
        "        if i == 2:\n",
        "            if bts:\n",
        "                newLst.append(bts.pop(0))\n",
        "            else:\n",
        "                newLst.append(0)\n",
        "        else:\n",
        "            newLst.append(i)\n",
        "    return newLst\n",
        "\n",
        "#Tests\n",
        "print(fillParityBits([2, 2, 0, 2, 0, 1, 0, 2, 1, 1, 0, 1], [1, 0, 0, 1]) == [1, 0, 0, 0, 0, 1, 0, 1, 1, 1, 0, 1])\n",
        "print(fillParityBits([2, 2, 1, 2, 1, 0, 0], [0, 1, 1]) == [0, 1, 1, 1, 1, 0, 0])\n",
        "print(fillParityBits([2, 2, 0, 2, 0, 1, 1], [1]) == [1, 0, 0, 0, 0, 1, 1])"
      ]
    },
    {
      "cell_type": "markdown",
      "metadata": {},
      "source": [
        "Im folgenden Schritt werden alle Funktionen nacheinander ausgeführt um den Hamming code von **d** zu berechnen."
      ]
    },
    {
      "cell_type": "code",
      "execution_count": 92,
      "metadata": {
        "trusted": true
      },
      "outputs": [
        {
          "name": "stdout",
          "output_type": "stream",
          "text": [
            "Start mit bits:          [0, 0, 1, 1, 0, 0, 1, 0]\n",
            "Platzhalter einfügen:    [0, 0, 1, 1, 2, 0, 0, 1, 2, 0, 2, 2]\n",
            "1ser Stellen bestimmen:  [5, 9, 10]\n",
            "Stellen binär addieren:  0b110\n",
            "Binärzahl als Liste:     [1, 1, 0]\n",
            "Paritätsbits einfügen:   [0, 0, 1, 1, 0, 0, 0, 1, 1, 0, 1, 0]\n"
          ]
        }
      ],
      "source": [
        "d = [0,0,1,1,0,0,1,0]\n",
        "print(\"Start mit bits:         \", d) \n",
        "\n",
        "#Platzhalter einfügen\n",
        "data_filled = fillBits(d)\n",
        "print(\"Platzhalter einfügen:   \", data_filled[::-1])\n",
        "\n",
        "#1ser Stellen bestimmen\n",
        "indices = getIndicesOfOnes(data_filled)\n",
        "print(\"1ser Stellen bestimmen: \", indices)\n",
        "\n",
        "#Stellen binär addieren\n",
        "parityBinary = addWithoutCarry(indices)\n",
        "print(\"Stellen binär addieren: \", parityBinary)\n",
        "\n",
        "#Binärzahl zu einer Liste formatieren\n",
        "parityBits = binToIntList(parityBinary)\n",
        "print(\"Binärzahl als Liste:    \", parityBits)\n",
        "\n",
        "#Paritätsbits einfügen\n",
        "parityBits.reverse()\n",
        "hamming = fillParityBits(data_filled, parityBits)\n",
        "hamming.reverse()\n",
        "print(\"Paritätsbits einfügen:  \", hamming)"
      ]
    },
    {
      "cell_type": "markdown",
      "metadata": {},
      "source": [
        "# 2. Modulation"
      ]
    },
    {
      "cell_type": "markdown",
      "metadata": {},
      "source": [
        "In der Aufgabe `1. Hamming Code` haben wir einen dynamischen Ablauf erstellt um eine gegebene Bitfolge zu kodieren. Diese Aufgabe beschäftigt sich damit dise Bits zu modulieren.\\\n",
        "Als Signalbildung verwenden wir _Non Return To Zero (NRZ)_ also eine 1:1 Codierung des digitalen Datenstroms."
      ]
    },
    {
      "cell_type": "markdown",
      "metadata": {},
      "source": [
        "## Amplitudenmodulation (AM)\n",
        "Im folgenden Block wird ein _Sample_ einer Sinusfunktion im Intervall von [0; 100] generiert. \n",
        "> **Aufgabe**: Die Funktion **createSample(freq, t_start, t_end)** generiert eine Modulation mit einer Amplitude von 1. Sie erhält als Parameter:\\\n",
        "**freq:** Maß dafür, wie schnell sich die Signale wiederholen. (z.B bei freq = 2, wiederholt sich 2 mal im Intervall von [0; 100])\\\n",
        "**t_start:** Beginn des Intervalls\\\n",
        "**t_end:** Ende des Intervalls\\\n",
        "Die Funktion gibt eine Liste mit Einträgen zwischen `1` und `-1` zurück. Hilfreiche Funktionen sind z.B. `np.linspace()`, `np.pi` oder `np.sin()`.\n"
      ]
    },
    {
      "cell_type": "code",
      "execution_count": 1,
      "metadata": {
        "trusted": true
      },
      "outputs": [
        {
          "data": {
            "text/plain": [
              "[<matplotlib.lines.Line2D at 0xffff64d3c6d0>]"
            ]
          },
          "execution_count": 1,
          "metadata": {},
          "output_type": "execute_result"
        },
        {
          "data": {
            "image/png": "[encoded data removed]",
            "text/plain": [
              "<Figure size 640x480 with 1 Axes>"
            ]
          },
          "metadata": {},
          "output_type": "display_data"
        }
      ],
      "source": [
        "import numpy as np\n",
        "import matplotlib.pyplot as plt\n",
        "\n",
        "def createSample(freq, t_start, t_end):\n",
        "    tabelle = np.linspace(t_start, t_end, t_end)\n",
        "    sinusFx = np.sin(2*np.pi*freq*tabelle)\n",
        "    return sinusFx\n",
        "\n",
        "#Plots\n",
        "sampleAM = createSample(2, 0, 100)\n",
        "\n",
        "fig = plt.figure()\n",
        "ax1 = fig.add_axes([0, 1, 2, 0.5], ylim=(-1.2, 1.2))\n",
        "ax1.plot(sampleAM)"
      ]
    },
    {
      "cell_type": "markdown",
      "metadata": {},
      "source": [
        "Beim Non-Return-to-Zero-Code wird jedem Bit ein binäres Signal zugeordnet (z.B. einem Zeichenwert '0' keine Modulation, '1' eine Modulation). Daher werden Folgen gleicher Bits entsprechend durch Folgen gleicher Signalwerte übertragen.\n",
        "> **Aufgabe**: Wir haben ein Sample (Liste bestehend aus 100 Werten) das bei jedem Bit das gleich `1` ist eingesetzt wird. Ist ein Bit gleich `0` wird eine Liste aus Nullen eingesetzt. Für jedes Bit wird eine Liste aus 100 Werten hinzugefügt. Diese Funktion gibt eine Liste mit Listen zurück."
      ]
    },
    {
      "cell_type": "code",
      "execution_count": null,
      "metadata": {
        "trusted": true
      },
      "outputs": [
        {
          "name": "stdout",
          "output_type": "stream",
          "text": [
            "True\n",
            "True\n"
          ]
        }
      ],
      "source": [
        "def sampleModulation(lst, sample):\n",
        "    #dein code\n",
        "    return None\n",
        "\n",
        "#Tests\n",
        "print(sampleModulation([0,1,0], [1] * 100) == [[0] * 100, [1] * 100, [0] * 100])\n",
        "print(sampleModulation([1,1,0], [1] * 100) == [[1] * 100, [1] * 100, [0] * 100])"
      ]
    },
    {
      "cell_type": "markdown",
      "metadata": {},
      "source": [
        "Die Funktion **sampleModulation()** gibt eine Liste mit Listen zurück. Die Aufgabe der nächsten Funktion ist es diese verschachtelten Listen zu einer Liste zu verschelzen.\n",
        "> **Aufgabe**: Die Funiktion **flatten()** bekommt eine Liste aus Listen übergeben und gibt eine Liste zurück."
      ]
    },
    {
      "cell_type": "code",
      "execution_count": null,
      "metadata": {
        "trusted": true
      },
      "outputs": [
        {
          "name": "stdout",
          "output_type": "stream",
          "text": [
            "True\n",
            "True\n"
          ]
        },
        {
          "data": {
            "text/plain": [
              "[<matplotlib.lines.Line2D at 0x2f1e210>]"
            ]
          },
          "execution_count": 11,
          "metadata": {},
          "output_type": "execute_result"
        },
        {
          "data": {
            "image/png": "[encoded data removed]",
            "text/plain": [
              "<Figure size 640x480 with 1 Axes>"
            ]
          },
          "metadata": {},
          "output_type": "display_data"
        },
        {
          "data": {
            "image/png": "[encoded data removed]",
            "text/plain": [
              "<Figure size 640x480 with 1 Axes>"
            ]
          },
          "metadata": {},
          "output_type": "display_data"
        }
      ],
      "source": [
        "def flatten(lst):\n",
        "    #dein code\n",
        "    return None\n",
        "\n",
        "#Tests\n",
        "print(flatten([[1],[2],[4],[8],[16]]) == [1, 2, 4, 8, 16])\n",
        "print(flatten([[0,0,0],[1,1,1],[0,0,0]]) ==  [0, 0, 0, 1, 1, 1, 0, 0, 0])\n",
        "\n",
        "#Plots\n",
        "modulation = flatten(sampleModulation(hamming, sampleAM))\n",
        "hammingPlot = hamming.copy()\n",
        "\n",
        "fig2 = plt.figure()\n",
        "fig3 = plt.figure()\n",
        "\n",
        "ax2 = fig2.add_axes([0, 1, 2, 0.2], ylim=(-0.2, 1.2))\n",
        "ax3 = fig3.add_axes([0, 1, 2, 0.5], ylim=(-1.2, 1.2))\n",
        "\n",
        "ax2.plot(np.repeat(hammingPlot, 100))\n",
        "ax3.plot(modulation)"
      ]
    },
    {
      "cell_type": "markdown",
      "metadata": {},
      "source": [
        "# 3. Demodulation\n",
        "\n",
        "Die übertragenen Bits mussen nach der Übertragung wieder de-moduliert und später auch de-kodiert (Hamming) werden. \n",
        "Um festzustellen ob an einem bestimmten Moment eine `1` oder eine `0` übertragen wurde summieren wir in 100er Schritten die Übertragung. Mit einem _threshold_ (Schwelle) bewerten wir die einzelnen Intervalle und entscheiden ob es sich um eine `1` oder `0` handelt."
      ]
    },
    {
      "cell_type": "markdown",
      "metadata": {},
      "source": [
        "Die folgende Funktion unterteilt eine Liste alle **n** Elemente.\n",
        "> **Aufgabe**: Diese Funktion erhält eine Ganzzahl **n** und eine Liste. Diese Liste wird zu einer Liste mit Sublisten der Länge **n**. Ein Beispiel mit **n** = 3:\n",
        "$$[0,1,2,3,4,5,6,7,8,9] \\rightarrow [[1,2,3],[4,5,6],[7,8,9]]$$"
      ]
    },
    {
      "cell_type": "code",
      "execution_count": null,
      "metadata": {
        "trusted": true
      },
      "outputs": [
        {
          "name": "stdout",
          "output_type": "stream",
          "text": [
            "True\n",
            "True\n"
          ]
        }
      ],
      "source": [
        "def splitEvery(n, lst):\n",
        "    #dein code\n",
        "    return None\n",
        "\n",
        "#Tests\n",
        "print(len(splitEvery(10, [1]*100)) == 10)\n",
        "print(len(splitEvery(100, [1]*701)) == 7)"
      ]
    },
    {
      "cell_type": "markdown",
      "metadata": {},
      "source": [
        "Jetzt haben wir die Möglichkeit die empfangene Modulation in Intervallen zu unterteilen. Die nächste Funktion berechnet die Summe der jeweiligen Intervalle.\n",
        "> **Aufgabe**: Erstelle die Funktion **sumIntervals(lst)** welche den Absolutwert (Betrag) jedes Elements in einem Intervall summiert. Diese Funktion gibt dann eine Liste mit der Summe der jeweiligen Intervalle zurück.\n",
        "$$[[0,0,0],[1,2,3],[2,-2,-2]] \\rightarrow [0,6,6]$$\n",
        "\n",
        "_Tipp: Es müssen nicht alle Funktionen wie die Summe einer Liste händisch erstellt erstellt werden, du kannst dafür auch eine Library wie z.B np verwenden_"
      ]
    },
    {
      "cell_type": "code",
      "execution_count": null,
      "metadata": {
        "trusted": true
      },
      "outputs": [
        {
          "name": "stdout",
          "output_type": "stream",
          "text": [
            "True\n",
            "True\n"
          ]
        }
      ],
      "source": [
        "def sumIntervals(lst):\n",
        "    #dein code\n",
        "    return None\n",
        "\n",
        "#Tests\n",
        "print(sumIntervals([[0,0,0], [1,2,3], [2,-2,-2]]) == [0,6,6])\n",
        "print(sumIntervals([[0,0,0], [1,1], []]) == [0,2,0])"
      ]
    },
    {
      "cell_type": "markdown",
      "metadata": {},
      "source": [
        "Es wird noch eine Funktion benötigt, die diese Liste mit den Summen der einzelnen Intervalle in eine Liste bestehend aus 0 en und 1 en umwandelt. \n",
        "> **Aufgabe**: Dazu erstellen wir eine Funktion **threshold(lst, t)** mit den Argumenten **lst** die Liste und den threshold **t** (Ganzzahl). Wenn das Element der Liste grösser als **t** ist wird eine 1 gesetzt, ansonsten 0."
      ]
    },
    {
      "cell_type": "code",
      "execution_count": null,
      "metadata": {
        "trusted": true
      },
      "outputs": [
        {
          "name": "stdout",
          "output_type": "stream",
          "text": [
            "True\n"
          ]
        }
      ],
      "source": [
        "def threshold(lst, t):\n",
        "    #dein code\n",
        "    return None\n",
        "\n",
        "#Tests\n",
        "print(threshold([1,2,3,4,5], 3) == [0,0,1,1,1])"
      ]
    },
    {
      "cell_type": "markdown",
      "metadata": {},
      "source": [
        "Mit diesen Funktionen können wir die empfangene Modulation wieder zu einer Bitfolge umwandeln."
      ]
    },
    {
      "cell_type": "code",
      "execution_count": null,
      "metadata": {
        "trusted": true
      },
      "outputs": [
        {
          "name": "stdout",
          "output_type": "stream",
          "text": [
            "[0, 0, 1, 1, 0, 0, 0, 1, 1, 0, 1, 0]\n"
          ]
        }
      ],
      "source": [
        "deModuliert = threshold(sumIntervals(splitEvery(100, modulation)), 30)\n",
        "print(deModuliert)"
      ]
    },
    {
      "cell_type": "markdown",
      "metadata": {},
      "source": [
        "# 4. Hamming Code (Dekodieren)\n",
        "Jetzt haben wir die empfangenen Bits (noch Hamming-kodiert). Diese können jetzt mit den bereits erstellten Funktionen dekodiert werden."
      ]
    },
    {
      "cell_type": "code",
      "execution_count": null,
      "metadata": {
        "trusted": true
      },
      "outputs": [],
      "source": [
        "deKodiert = None"
      ]
    },
    {
      "cell_type": "markdown",
      "metadata": {},
      "source": [
        "Nun können wir überprüfen ob bei der \"simulierten\" Übertragung Fehler entstanden sind."
      ]
    },
    {
      "cell_type": "code",
      "execution_count": null,
      "metadata": {
        "trusted": true
      },
      "outputs": [
        {
          "name": "stdout",
          "output_type": "stream",
          "text": [
            "Hamming-kodiert:  [0, 0, 1, 1, 0, 0, 0, 1, 1, 0, 1, 0]\n",
            "De-moduliert:     [0, 0, 1, 1, 0, 0, 0, 1, 1, 0, 1, 0]\n",
            "Fehler:           False\n",
            "Fehlerstelle, 0 = kein Fehler:  [0]\n"
          ]
        }
      ],
      "source": [
        "print(\"Hamming-kodiert: \", hamming)\n",
        "print(\"De-moduliert:    \", deModuliert)\n",
        "print(\"Fehler:          \", not(deModuliert == hamming))\n",
        "print(\"Fehlerstelle, 0 = kein Fehler: \", deKodiert)"
      ]
    },
    {
      "cell_type": "markdown",
      "metadata": {},
      "source": [
        "# 5. Übertragungsfehler Simulation\n",
        "In dieser Aufgabe generieren wir einen \"Bitflip\" und schauen ob es möglich ist die Stelle des Fehlers herauszufinden.\n",
        "\n",
        "> **Aufgabe**: Erstelle eine Funktion die an einer zufälligen Stelle der Liste einen Bitflip macht. Wie zum Beispiel:\n",
        "$$[1, 0, 1, 0, 1, 0] \\rightarrow [1, 1, 1, 0, 1, 0]$$\n",
        "\n",
        "_Hinweis: randrange(n) gibt random Zahlen von 0 bis n-1_"
      ]
    },
    {
      "cell_type": "code",
      "execution_count": null,
      "metadata": {
        "trusted": true
      },
      "outputs": [
        {
          "name": "stdout",
          "output_type": "stream",
          "text": [
            "Übertragung Hammming kodiert:                  [0, 0, 1, 1, 0, 0, 0, 1, 1, 0, 1, 0]\n",
            "Züfällig generierter Fehler:                   [0, 1, 1, 1, 0, 0, 0, 1, 1, 0, 1, 0]\n",
            "De-kodierung gibt Stelle von Fehler in binär:  [1, 0, 1, 1]\n"
          ]
        }
      ],
      "source": [
        "from random import randrange\n",
        "\n",
        "def randomBitFlip(lst):\n",
        "    #dein code\n",
        "    return None\n",
        "\n",
        "modulationError = randomBitFlip(deModuliert)\n",
        "print(\"Übertragung Hammming kodiert:                 \", deModuliert)\n",
        "print(\"Züfällig generierter Fehler:                  \", modulationError)\n",
        "print(\"De-kodierung gibt Stelle von Fehler in binär: \", binToIntList(addWithoutCarry(getIndicesOfOnes(modulationError[::-1]))))"
      ]
    }
  ],
  "metadata": {
    "kernelspec": {
      "display_name": "Python 3",
      "language": "python",
      "name": "python3"
    },
    "language_info": {
      "codemirror_mode": {
        "name": "ipython",
        "version": 3
      },
      "file_extension": ".py",
      "mimetype": "text/x-python",
      "name": "python",
      "nbconvert_exporter": "python",
      "pygments_lexer": "ipython3",
      "version": "3.11.8"
    }
  },
  "nbformat": 4,
  "nbformat_minor": 4
}
