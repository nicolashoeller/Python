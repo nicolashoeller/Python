{
  "cells": [
    {
      "attachments": {},
      "cell_type": "markdown",
      "metadata": {},
      "source": [
        "# 1. CRC Code\n",
        "Der CRC-Algorithmus ist relativ einfach zu realisieren und dennoch ein Mittel, um Daten bei ihrer Speicherung oder Übertragung wirkungsvoll auf Korrektheit zu prüfen. Beim CRC Verfahren gibt es ein sogenanntes Generator-Polynom, welches beim Sender und Empfänger der Daten bekannt sein muss. Je nach Bezeichnung des Verfahrens handelt es sich um eine unterschiedliche Länge dieses Generator-Polynoms. Zum Beispiel bedeutet CRC-16, dass das Generator-Polynom vom Grad 16 ist, sprich es hat 17 Bit. CRC-16 ist auch die häufigste Form, es wird aber auch z. B. CRC-8 oder CRC-32 verwendet."
      ]
    },
    {
      "cell_type": "code",
      "execution_count": 1,
      "metadata": {
        "trusted": true
      },
      "outputs": [],
      "source": [
        "GeneratorPolynom = 110101\n",
        "Daten = 11011"
      ]
    },
    {
      "attachments": {},
      "cell_type": "markdown",
      "metadata": {},
      "source": [
        "## Grad des Generator Polynoms:\n",
        "Berechne den Grad des Generator Polynoms.\n",
        "Das Generatorpolynom (CRC-Polynom) lautet 110101:\n",
        "\n",
        "**(1x<sup>5</sup> + 1x<sup>4</sup> + 0x<sup>3</sup> + 1x<sup>2</sup> + 0x<sup>1</sup> + 1x<sup>0</sup>)** und ist somit 5. Grades.\n",
        "\n",
        "> **Aufgabe 1**: Erstelle die Funktion **polynomGrad(p)**."
      ]
    },
    {
      "cell_type": "code",
      "execution_count": 2,
      "metadata": {
        "trusted": true
      },
      "outputs": [
        {
          "name": "stdout",
          "output_type": "stream",
          "text": [
            "True\n",
            "True\n",
            "True\n"
          ]
        }
      ],
      "source": [
        "def polynomGrad(p):\n",
        "    return len(str(p))-1 #x hoch 0 ist nicht mitinbezogen effiecient\n",
        "\n",
        "#Tests\n",
        "print(polynomGrad(110101) == 5)\n",
        "print(polynomGrad(11) == 1)\n",
        "print(polynomGrad(0) == 0)"
      ]
    },
    {
      "attachments": {},
      "cell_type": "markdown",
      "metadata": {},
      "source": [
        "### Anwendung dieses Verfahrens:\n",
        "\n",
        "1. An die zu schützenden binären Daten werden N Bits mit dem Wert Null angefügt, wobei N das Grad des Generatorpolynoms ist. (CRC-16 -> 16 hinzugefügte Bits)\n",
        "2. Die entstandenen neuen binären Daten werden durch das Generator-Polynom geteilt und der Rest wird ermittelt.\n",
        "3. Der Rest wird zu den binären Daten hinzugefügt, dieser stellt die Prüfsumme dar."
      ]
    },
    {
      "attachments": {},
      "cell_type": "markdown",
      "metadata": {},
      "source": [
        "### Integer zu einer Liste umwandeln\n",
        "> **Aufgabe 2**: Erstelle nun eine Funktion die eine Zahl zu einer Liste aus Integern umwandelt. Diese ist später sehr hilfreich.\n",
        "$$10101 \\rightarrow  [1, 0, 1, 0, 1]$$"
      ]
    },
    {
      "cell_type": "code",
      "execution_count": 3,
      "metadata": {
        "trusted": true
      },
      "outputs": [
        {
          "name": "stdout",
          "output_type": "stream",
          "text": [
            "True\n",
            "True\n",
            "True\n"
          ]
        }
      ],
      "source": [
        "def intToLst(i):\n",
        "    final = []\n",
        "    temp = str(i) # convert to string so the individual positions can be picked out\n",
        "\n",
        "    for i in range (len(temp)):\n",
        "        final.append(int(temp[i])) #append the individual positions of the string as an integer into the list\n",
        "        \n",
        "    return final\n",
        "\n",
        "#Tests\n",
        "print(intToLst(10010) == [1,0,0,1,0])\n",
        "print(intToLst(1234) == [1,2,3,4])\n",
        "print(intToLst(0) == [0])"
      ]
    },
    {
      "attachments": {},
      "cell_type": "markdown",
      "metadata": {},
      "source": [
        "## Rahmen berechnen\n",
        "Der Rahmen mit Anhang (engl. frame) besteht aus den zu übertragenen Daten und **n** (Grad des Generatorpolynom (CRC-Polynom)) Nullen hinterher.\n",
        "> **Aufgabe 3**: Erstelle die Funktion **generateFrame(d, p)**. Diese Funktion bekommt einen Integer der unsere Bitfolge darstellt und das CRC-Polynom und gibt den jeweiligen Rahmen als Liste von Integern zurück.\n",
        "\n",
        "(p = Generator Polynom) und (d = Daten)"
      ]
    },
    {
      "cell_type": "code",
      "execution_count": 4,
      "metadata": {
        "trusted": true
      },
      "outputs": [
        {
          "name": "stdout",
          "output_type": "stream",
          "text": [
            "True\n",
            "True\n",
            "True\n"
          ]
        }
      ],
      "source": [
        "def generateFrame(d, p):\n",
        "    final = intToLst(d)\n",
        "    for i in range (polynomGrad(p)):\n",
        "        final.append(0)\n",
        "    #add d (data) to it and then depending on which grade p is 0 to it\n",
        "    return final\n",
        "\n",
        "#Tests\n",
        "print(generateFrame(11011, 110101) == [1, 1, 0, 1, 1, 0, 0, 0, 0, 0])\n",
        "print(generateFrame(101, 110) == [1, 0, 1, 0, 0])\n",
        "print(generateFrame(1, 10) == [1, 0])"
      ]
    },
    {
      "attachments": {},
      "cell_type": "markdown",
      "metadata": {},
      "source": [
        "## Prüfbits mit Division bestimmen\n",
        "Nun wird der Rahmen mit Anhang von links durch das Generatorpolynom dividiert. Dabei wird ausschließlich das exklusive OR (XOR) verwendet. Wenn man dies im ersten Schritt anwendet, wird aus **110110 XOR 110101** die Zahl **000011**.\n",
        "\n",
        "Wobei gilt:   (_1 XOR 1 = 0;   1 XOR 0 = 1;   0 XOR 1 = 1; 0 XOR 0 = 0_)"
      ]
    },
    {
      "attachments": {},
      "cell_type": "markdown",
      "metadata": {},
      "source": [
        "Aus Übungszwecken werden wir diese Berechnung **ohne** die Verwendung von **XOR** durchführen.\n",
        "Die nächste Funktion berechnet die Division von (Frame : GeneratorPolynom) auf die klassische Art und Weise.\n",
        "Also:"
      ]
    },
    {
      "cell_type": "raw",
      "metadata": {},
      "source": [
        "1101100000\n",
        "110101\n",
        "------\n",
        "0000110000\n",
        "    110101\n",
        "    ------\n",
        "     00101 (Rest)"
      ]
    },
    {
      "attachments": {},
      "cell_type": "markdown",
      "metadata": {},
      "source": [
        "Noch ein weiteres Beispiel:"
      ]
    },
    {
      "cell_type": "raw",
      "metadata": {},
      "source": [
        "1001100101\n",
        "110101\n",
        "------\n",
        " 100110\n",
        " 110101\n",
        " ------\n",
        "  100111\n",
        "  110101\n",
        "  ------\n",
        "   100100\n",
        "   110101\n",
        "   ------\n",
        "    100011\n",
        "    110101\n",
        "    ------\n",
        "     10110 (Rest)"
      ]
    },
    {
      "attachments": {},
      "cell_type": "markdown",
      "metadata": {},
      "source": [
        "> **Aufgabe 4**: Berechne mit Hand (im folgenden Block) die Binärdivisionen mit Rest:\n",
        "$$ [1,1,0,1,1,0,0,1,0,1] : [1,1,0,1,0,1] $$"
      ]
    },
    {
      "cell_type": "raw",
      "metadata": {},
      "source": [
        "1101100101\n",
        "110101\n",
        "------\n",
        " 000110\n",
        " 110101\n",
        " ------\n",
        "  100101\n",
        "  110101\n",
        "  ------\n",
        "   100000\n",
        "   110101\n",
        "   ------\n",
        "    101011\n",
        "    110101\n",
        "    ------\n",
        "     11110 (Rest)\n"
      ]
    },
    {
      "attachments": {},
      "cell_type": "markdown",
      "metadata": {},
      "source": [
        "> **Aufgabe 5**: Berechne mit Hand (im folgenden Block) die Binärdivisionen mit Rest:\n",
        "$$ [1,1,1,0,1,0,1,0,0,1] : [1,1,0,1,0,1] $$"
      ]
    },
    {
      "cell_type": "raw",
      "metadata": {},
      "source": [
        "1110101001\n",
        "110101\n",
        "------\n",
        " 011111\n",
        " 110101\n",
        " ------\n",
        "  010100\n",
        "  110101\n",
        "  ------\n",
        "   000010\n",
        "   110101\n",
        "   ------\n",
        "    101111\n",
        "    110101\n",
        "    ------\n",
        "     11010 (Rest)"
      ]
    },
    {
      "attachments": {},
      "cell_type": "markdown",
      "metadata": {},
      "source": [
        "> **Aufgabe 6**: Berechne mit Hand (im folgenden Block) die Binärdivisionen mit Rest:\n",
        "$$ [1,1,1,0,1,0,0,1,1,1,0,0,1,0,0,0,0,0] : [1,0,0,1,1,0] $$"
      ]
    },
    {
      "cell_type": "raw",
      "metadata": {},
      "source": [
        "111010011100100000 (this wronk)\n",
        "100110\n",
        "------\n",
        " 111000\n",
        " 100110\n",
        " ------\n",
        "  111101\n",
        "  100110\n",
        "  ------\n",
        "   110111\n",
        "   100110\n",
        "   ------\n",
        "    100011\n",
        "    100110\n",
        "    ------\n",
        "     001010\n",
        "     100110\n",
        "     ------\n",
        "      011000\n",
        "      100110\n",
        "      ------\n",
        "       111101\n",
        "       100110\n",
        "       ------\n",
        "        110110\n",
        "        100110\n",
        "        ------\n",
        "         10000\n",
        "         100110\n",
        "         ------  \n",
        "          001100\n",
        "          100110\n",
        "          ------\n",
        "           010100\n",
        "           100110\n",
        "           ------\n",
        "            100100\n",
        "            100110\n",
        "            ------\n",
        "             00010 (Rest)"
      ]
    },
    {
      "attachments": {},
      "cell_type": "markdown",
      "metadata": {},
      "source": [
        "> **Aufgabe 7**: Erstelle nun eine algorithmische Variante der Division von Binärzahlen. In dieser Funktion darf **nicht** XOR verwendet werden. Es soll ausschließlich mit Schleifen gelöst werden. Die Funktion bekommt **f** = Frame und **p** = Generator Polynom in Form von Listen übergeben. \n"
      ]
    },
    {
      "cell_type": "code",
      "execution_count": 5,
      "metadata": {
        "trusted": true
      },
      "outputs": [
        {
          "name": "stdout",
          "output_type": "stream",
          "text": [
            "True\n",
            "True\n",
            "True\n",
            "True\n"
          ]
        }
      ],
      "source": [
        "#def binDivision(f, p):\n",
        "#    temp = []\n",
        "#    temp1 = f[0:len(p)]\n",
        "#    n = len(p)\n",
        "#    x = len(f)\n",
        "#    counter = 0\n",
        "#\n",
        "#    while counter + n <= x:\n",
        "#        \n",
        "#        for i in range (n):\n",
        "#            if (temp1[i] == 1 and p[i] == 1) or (temp1[i] == 0 and p[i] == 0):\n",
        "#                temp.append(0)\n",
        "#            else:\n",
        "#                temp.append(1)\n",
        "#        #print(temp)\n",
        "#        if counter + n >= x: #this even needed? yes it turns out\n",
        "#            #print(counter)\n",
        "#            break\n",
        "#        \n",
        "#        if temp[0] == 0 and counter + n <x and counter +n*2 >= x:\n",
        "#            pass\n",
        "#            #print(\"hello\", temp)\n",
        "#        else: \n",
        "#            pass\n",
        "#            print(\"rest is\", f[counter:])\n",
        "#\n",
        "#            print(temp)\n",
        "#            return temp\n",
        "        \n",
        "\n",
        "        #if it shall not do it again but i guess there is still something inside of it\n",
        "#        isDone = 0\n",
        "#        while isDone != 1:\n",
        "#            if temp[0] == 1:\n",
        "#                isDone = 1\n",
        "#            else:\n",
        "#                temp = temp[1:]\n",
        "#                temp.append(f[counter+n])\n",
        "#                counter += 1\n",
        "#\n",
        "#        temp1 = temp\n",
        "#        temp = []\n",
        "\n",
        "#1101100000\n",
        "#110101\n",
        "#------\n",
        "#0000110000\n",
        "#    110101\n",
        "#    ------\n",
        "#     00101 (Rest) \n",
        "#    print(temp[1:])\n",
        "#    return temp[1:]\n",
        "def binDivision(f, p): #not mine lol (Juls)\n",
        "    divided = f.copy() #copies list over to divided\n",
        "    while (len(divided) >= len(p)): #calculates until one less then usual (Rest)\n",
        "        for j in range(len(p)): #is the divider for the individual numbers and keeps on doing\n",
        "            divided[j] = 0 if (divided[j] == p[j]) else 1 #is XOR\n",
        "\n",
        "        while (divided[0] == 0) & (len(divided) >= len(p)): #removes the zeros\n",
        "            divided.pop(0)\n",
        "    return divided   \n",
        "\n",
        "# Tests\n",
        "print(binDivision([1,1,0,1,1,0,0,0,0,0], [1,1,0,1,0,1]) == [0, 0, 1, 0, 1])\n",
        "print(binDivision([1,1,0,1,1,0,0,1,0,1], [1,1,0,1,0,1]) == [0, 0, 0, 0, 0])\n",
        "print(binDivision([1,0,0,1,1,0,0,1,0,1], [1,1,0,1,0,1]) == [1, 0, 1, 1, 0])\n",
        "print(binDivision([1,1,1,0,1,0,0,1,1,1,0,0,1,0,0,0,0,0], [1,0,0,1,1,0]) == [0, 0, 1, 0, 0])"
      ]
    },
    {
      "attachments": {},
      "cell_type": "markdown",
      "metadata": {},
      "source": [
        "## Zusammensetzen\n",
        "Jetzt können wir die Prüfbits mit unserer Divisionsfunktion bestimmen. Diese Bits werden am Ende des Frames eingesetzt. An den Rahmen ohne Anhang wird nun der Rest angehängt. Dieser muss ebenfalls aus \n",
        "**n** Bits bestehen. Damit hängen wir nun 00101 an den Rahmen (1101100000) an.\n",
        "\n",
        "Übertragener Rahmen (CRC Kodiert): (1101100101)"
      ]
    },
    {
      "attachments": {},
      "cell_type": "markdown",
      "metadata": {},
      "source": [
        "> **Aufgabe 8**: Bestimme die Funktion combineFrame(f, pb). Diese Funktion bekommt eine Liste aus Integern **f** = frame und **pB** = Prüfbits übergeben.\n",
        "$$[1, 1, 0, 1, 1, 0, 0, 0, 0, 0], [0, 0, 1, 0, 1] \\rightarrow [1, 1, 0, 1, 1, 0, 0, 1, 0, 1]$$"
      ]
    },
    {
      "cell_type": "code",
      "execution_count": 6,
      "metadata": {
        "trusted": true
      },
      "outputs": [
        {
          "name": "stdout",
          "output_type": "stream",
          "text": [
            "True\n",
            "True\n"
          ]
        }
      ],
      "source": [
        "def combineFrame(f, pB):\n",
        "    #simple version idk if im allowed to tho to do it like this\n",
        "    for i in range (len(pB)):\n",
        "        f[len(f)-len(pB)+i] = pB[i]\n",
        "    return f\n",
        "\n",
        "#Tests\n",
        "print(combineFrame([1, 1, 0, 1, 1, 0, 0, 0, 0, 0], [0, 0, 1, 0, 1]) == [1, 1, 0, 1, 1, 0, 0, 1, 0, 1])\n",
        "print(combineFrame([1, 1, 1, 0, 1, 0, 0, 1, 1, 1, 0, 0, 1, 0, 0, 0, 0, 0], [0, 0, 1, 0, 0]) == [1, 1, 1, 0, 1, 0, 0, 1, 1, 1, 0, 0, 1, 0, 0, 1, 0, 0])"
      ]
    },
    {
      "attachments": {},
      "cell_type": "markdown",
      "metadata": {},
      "source": [
        "An diesem Punkt haben wir alle Funktionen die benötigt werden um eine Bitfolge zu kodieren.\n",
        "> **Aufgabe 9**: Kombinire alle erstellten Funktionen und kodiere **Daten** und das gegebene **GeneratorPolynom**.\n",
        "Schreibe das Ergebnis (kodierte Daten) in die Variable CRC."
      ]
    },
    {
      "cell_type": "code",
      "execution_count": 7,
      "metadata": {
        "trusted": true
      },
      "outputs": [
        {
          "name": "stdout",
          "output_type": "stream",
          "text": [
            "[1, 1, 0, 1, 1, 0, 0, 1, 0, 1]\n"
          ]
        }
      ],
      "source": [
        "GeneratorPolynom = 110101\n",
        "Daten = 11011\n",
        "\n",
        "frame = generateFrame(Daten, GeneratorPolynom)\n",
        "pBits = binDivision(frame, intToLst(GeneratorPolynom))\n",
        "\n",
        "CRC = combineFrame(frame, pBits)\n",
        "print(CRC)"
      ]
    },
    {
      "attachments": {},
      "cell_type": "markdown",
      "metadata": {},
      "source": [
        "# 2. CRC (Dekodierung)\n",
        "Der Empfänger kann nun die erhaltenen Daten durch das Generator-Polynom teilen. Bleibt bei dieser Division 0 Rest sind die Daten korrekt übertragen worden. Ist der Rest ungleich 0, ist ein Fehler bei der Übertragung aufgetreten. Um die ursprünglichen Daten wieder zu erhalten (natürlich nur, falls sie korrekt übertragen wurden) müssen nur die letzten Stellen entfernt werden.\n",
        "\n",
        "> **Aufgabe 10**: Um die Empfangenen CRC-Bits zu dekodieren kann wieder die Funktion von **Aufgabe 7: binDivision(f, p)** verwendet werden. Dekodiere **CRC** im folgenden Codeblock."
      ]
    },
    {
      "cell_type": "code",
      "execution_count": 8,
      "metadata": {
        "trusted": true
      },
      "outputs": [
        {
          "name": "stdout",
          "output_type": "stream",
          "text": [
            "[0, 0, 0, 0, 0]\n"
          ]
        }
      ],
      "source": [
        "CRC_decoded = binDivision(CRC, intToLst(GeneratorPolynom))\n",
        "print(CRC_decoded)"
      ]
    },
    {
      "attachments": {},
      "cell_type": "markdown",
      "metadata": {},
      "source": [
        "> **Aufgabe 10**: Gegeben ist das **Generator Polynom = 10110** und die **Daten = 1011**, berechne mit _Hand_ alle einzelnen Schritte und beschreibe was diese machen. Wie erkennt man ob in der Übertragung ein Fehler aufgetreten ist?"
      ]
    },
    {
      "cell_type": "raw",
      "metadata": {},
      "source": [
        "Frame: 10110000 ([1011]+[Polynomgrad(1011)])\n",
        "Prüfbits = 10110000 :^:1011\n",
        "    10110000\n",
        "    10110\n",
        "    -----\n",
        "    00000000 Rest\n",
        "\n",
        "    Prüfbits = 0000\n",
        "\n",
        "Kombiniert: 10110000\n",
        "CRC = 10110000\n",
        "\n",
        "10110000 :^: 1011\n",
        "    10110000\n",
        "    10110\n",
        "    -----\n",
        "    00000000 Rest\n",
        "\n",
        "    0000 = Prüfbits\n",
        "\n",
        "    0 = kein Fehler"
      ]
    }
  ],
  "metadata": {
    "kernelspec": {
      "display_name": "Python 3",
      "language": "python",
      "name": "python3"
    },
    "language_info": {
      "codemirror_mode": {
        "name": "ipython",
        "version": 3
      },
      "file_extension": ".py",
      "mimetype": "text/x-python",
      "name": "python",
      "nbconvert_exporter": "python",
      "pygments_lexer": "ipython3",
      "version": "3.9.13"
    }
  },
  "nbformat": 4,
  "nbformat_minor": 4
}
